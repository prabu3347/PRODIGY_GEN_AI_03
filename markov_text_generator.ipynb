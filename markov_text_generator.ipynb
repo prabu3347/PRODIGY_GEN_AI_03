{
  "nbformat": 4,
  "nbformat_minor": 0,
  "metadata": {
    "colab": {
      "provenance": []
    },
    "kernelspec": {
      "name": "python3",
      "display_name": "Python 3"
    },
    "language_info": {
      "name": "python"
    }
  },
  "cells": [
    {
      "cell_type": "markdown",
      "source": [],
      "metadata": {
        "id": "97RC9XhmBsU1"
      }
    },
    {
      "cell_type": "code",
      "source": [
        "import random\n",
        "\n",
        "# Sample training text\n",
        "training_text = \"\"\"\n",
        "Artificial intelligence is transforming the world.\n",
        "Machines can now learn from data and make decisions.\n",
        "Technology is advancing rapidly with the help of AI.\n",
        "Natural language processing helps machines understand humans.\n",
        "\"\"\"\n",
        "\n",
        "# Step 1: Tokenize the text into words\n",
        "words = training_text.strip().split()\n",
        "\n",
        "# Step 2: Build the Markov Chain as a dictionary\n",
        "markov_chain = {}\n",
        "\n",
        "for current_word, next_word in zip(words[:-1], words[1:]):\n",
        "    if current_word not in markov_chain:\n",
        "        markov_chain[current_word] = []\n",
        "    markov_chain[current_word].append(next_word)\n",
        "\n",
        "# Step 3: Generate text\n",
        "def generate_text(chain, num_words=20):\n",
        "    word = random.choice(list(chain.keys()))\n",
        "    output = [word]\n",
        "\n",
        "    for _ in range(num_words - 1):\n",
        "        next_words = chain.get(word, [])\n",
        "        if not next_words:\n",
        "            break\n",
        "        word = random.choice(next_words)\n",
        "        output.append(word)\n",
        "\n",
        "    return ' '.join(output)\n",
        "\n",
        "# Run the generator\n",
        "print(\"Generated Text:\\n\")\n",
        "print(generate_text(markov_chain, num_words=30))"
      ],
      "metadata": {
        "colab": {
          "base_uri": "https://localhost:8080/"
        },
        "id": "pQo4quThDs6T",
        "outputId": "ecdeb2d2-487e-49e8-8c56-0315d7a0d309",
        "collapsed": true
      },
      "execution_count": null,
      "outputs": [
        {
          "output_type": "stream",
          "name": "stdout",
          "text": [
            "Generated Text:\n",
            "\n",
            "Technology is advancing rapidly with the world. Machines can now learn from data and make decisions. Technology is advancing rapidly with the help of AI. Natural language processing helps machines\n"
          ]
        }
      ]
    }
  ]
}